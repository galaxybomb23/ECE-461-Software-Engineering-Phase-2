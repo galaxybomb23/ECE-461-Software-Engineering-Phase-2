{
 "cells": [
  {
   "cell_type": "code",
   "execution_count": null,
   "metadata": {},
   "outputs": [
    {
     "name": "stdout",
     "output_type": "stream",
     "text": [
      "[{'URL': 'https://github.com/nullivex/nodist\\r', 'NetScore': 0.8, 'NetScore_Latency': 88.64, 'RampUp': 0.9, 'RampUp_Latency': 2.798, 'Correctness': 0.7, 'Correctness_Latency': 2.849, 'BusFactor': 0.7, 'BusFactor_Latency': 3.477, 'ResponsiveMaintainer': 0.7, 'ResponsiveMaintainer_Latency': 2.841, 'License': 1, 'License_Latency': 2.877, 'DependencyPinning': 0.5, 'DependencyPinning_Latency': 6.215, 'ReviewPercentage': 1, 'ReviewPercentage_Latency': 67.583}, {'URL': 'https://github.com/cloudinary/cloudinary_npm\\r', 'NetScore': 0.7, 'NetScore_Latency': 88.475, 'RampUp': 0.8, 'RampUp_Latency': 1.229, 'Correctness': 0.7, 'Correctness_Latency': 1.355, 'BusFactor': 0.5, 'BusFactor_Latency': 0.979, 'ResponsiveMaintainer': 0.78, 'ResponsiveMaintainer_Latency': 1.206, 'License': 1, 'License_Latency': 21.387, 'DependencyPinning': 0.6, 'DependencyPinning_Latency': 3.302, 'ReviewPercentage': 1, 'ReviewPercentage_Latency': 59.017}, {'URL': 'https://github.com/lodash/lodash\\r', 'NetScore': 0.6, 'NetScore_Latency': 30.146, 'RampUp': 0.7, 'RampUp_Latency': 0.792, 'Correctness': 0.5, 'Correctness_Latency': 1.568, 'BusFactor': 1, 'BusFactor_Latency': 1.027, 'ResponsiveMaintainer': 0.35, 'ResponsiveMaintainer_Latency': 0.933, 'License': 1, 'License_Latency': 7.269, 'DependencyPinning': 0.7, 'DependencyPinning_Latency': 8.111, 'ReviewPercentage': 0.5, 'ReviewPercentage_Latency': 10.446}, {'URL': 'https://www.npmjs.com/package/browserify\\r', 'NetScore': 0.5, 'NetScore_Latency': 105.165, 'RampUp': 1, 'RampUp_Latency': 3.096, 'Correctness': 0.3, 'Correctness_Latency': 4.543, 'BusFactor': 0.2, 'BusFactor_Latency': 3.122, 'ResponsiveMaintainer': 0.32999999999999996, 'ResponsiveMaintainer_Latency': 4.455, 'License': 1, 'License_Latency': 17.972, 'DependencyPinning': 0.7, 'DependencyPinning_Latency': 19.728, 'ReviewPercentage': 0.6, 'ReviewPercentage_Latency': 52.249}, {'URL': 'https://github.com/mrdoob/three.js\\r', 'NetScore': 0.3, 'NetScore_Latency': 378.548, 'RampUp': 0.1, 'RampUp_Latency': 0.787, 'Correctness': 0.3, 'Correctness_Latency': 1.896, 'BusFactor': 0.5, 'BusFactor_Latency': 1.21, 'ResponsiveMaintainer': 0.33999999999999997, 'ResponsiveMaintainer_Latency': 1.147, 'License': 1, 'License_Latency': 180.337, 'DependencyPinning': 0.5, 'DependencyPinning_Latency': 2.57, 'ReviewPercentage': 0, 'ReviewPercentage_Latency': 190.601}, {'URL': 'https://github.com/moment/moment\\r', 'NetScore': 0.5, 'NetScore_Latency': 33.53, 'RampUp': 0.9, 'RampUp_Latency': 1.179, 'Correctness': 0.3, 'Correctness_Latency': 1.963, 'BusFactor': 0.6, 'BusFactor_Latency': 0.913, 'ResponsiveMaintainer': 0.32, 'ResponsiveMaintainer_Latency': 1.298, 'License': 1, 'License_Latency': 20.742, 'DependencyPinning': 0.5, 'DependencyPinning_Latency': 3.044, 'ReviewPercentage': 0.2, 'ReviewPercentage_Latency': 4.391}, {'URL': 'https://github.com/axios/axios\\r', 'NetScore': 0.5, 'NetScore_Latency': 51.35, 'RampUp': 0.9, 'RampUp_Latency': 0.484, 'Correctness': 0.3, 'Correctness_Latency': 1.291, 'BusFactor': 0.5, 'BusFactor_Latency': 0.698, 'ResponsiveMaintainer': 0.32, 'ResponsiveMaintainer_Latency': 0.718, 'License': 1, 'License_Latency': 12.078, 'DependencyPinning': 0.5, 'DependencyPinning_Latency': 3.294, 'ReviewPercentage': 0.2, 'ReviewPercentage_Latency': 32.787}, {'URL': 'https://github.com/expressjs/express\\r', 'NetScore': 0.7, 'NetScore_Latency': 36.915, 'RampUp': 1, 'RampUp_Latency': 0.596, 'Correctness': 0.3, 'Correctness_Latency': 1.302, 'BusFactor': 0.9, 'BusFactor_Latency': 0.503, 'ResponsiveMaintainer': 0.41, 'ResponsiveMaintainer_Latency': 1.072, 'License': 1, 'License_Latency': 8.599, 'DependencyPinning': 1, 'DependencyPinning_Latency': 6.292, 'ReviewPercentage': 1, 'ReviewPercentage_Latency': 18.551}, {'URL': 'https://github.com/d3/d3\\r', 'NetScore': 0, 'NetScore_Latency': 66.021, 'RampUp': 0.7, 'RampUp_Latency': 0.823, 'Correctness': 0.7, 'Correctness_Latency': 1.085, 'BusFactor': 0.9, 'BusFactor_Latency': 0.811, 'ResponsiveMaintainer': 0.8999999999999999, 'ResponsiveMaintainer_Latency': 0.887, 'License': 0, 'License_Latency': 8.276, 'DependencyPinning': 0.5, 'DependencyPinning_Latency': 8.768, 'ReviewPercentage': 0.7, 'ReviewPercentage_Latency': 45.371}, {'URL': 'https://github.com/vuejs/vue\\r', 'NetScore': 0.6, 'NetScore_Latency': 34.459, 'RampUp': 0.8, 'RampUp_Latency': 0.77, 'Correctness': 0.3, 'Correctness_Latency': 1.618, 'BusFactor': 0.6, 'BusFactor_Latency': 0.78, 'ResponsiveMaintainer': 0.33999999999999997, 'ResponsiveMaintainer_Latency': 0.967, 'License': 1, 'License_Latency': 12.704, 'DependencyPinning': 0.5, 'DependencyPinning_Latency': 2.854, 'ReviewPercentage': 1, 'ReviewPercentage_Latency': 14.766}, {'URL': 'https://github.com/jestjs/jest\\r', 'NetScore': 0.3, 'NetScore_Latency': 164.57, 'RampUp': 0.1, 'RampUp_Latency': 0.523, 'Correctness': 0.3, 'Correctness_Latency': 1.131, 'BusFactor': 0.3, 'BusFactor_Latency': 0.529, 'ResponsiveMaintainer': 0.31, 'ResponsiveMaintainer_Latency': 0.659, 'License': 1, 'License_Latency': 69.043, 'DependencyPinning': 0.5, 'DependencyPinning_Latency': 2.321, 'ReviewPercentage': 0.2, 'ReviewPercentage_Latency': 90.364}, {'URL': 'https://github.com/chartjs/Chart.js\\r', 'NetScore': 0.6, 'NetScore_Latency': 125.106, 'RampUp': 0.8, 'RampUp_Latency': 0.812, 'Correctness': 0.3, 'Correctness_Latency': 2.083, 'BusFactor': 0.6, 'BusFactor_Latency': 0.797, 'ResponsiveMaintainer': 0.33999999999999997, 'ResponsiveMaintainer_Latency': 1.345, 'License': 1, 'License_Latency': 40.694, 'DependencyPinning': 0.5, 'DependencyPinning_Latency': 3.258, 'ReviewPercentage': 1, 'ReviewPercentage_Latency': 76.117}, {'URL': 'https://www.npmjs.com/package/wat4hjs\\r', 'NetScore': 0.7, 'NetScore_Latency': 8.765, 'RampUp': 1, 'RampUp_Latency': 0.445, 'Correctness': 0.9, 'Correctness_Latency': 0.706, 'BusFactor': 0.1, 'BusFactor_Latency': 0.656, 'ResponsiveMaintainer': 1, 'ResponsiveMaintainer_Latency': 0.727, 'License': 1, 'License_Latency': 1.588, 'DependencyPinning': 0.5, 'DependencyPinning_Latency': 2.294, 'ReviewPercentage': 0.2, 'ReviewPercentage_Latency': 2.349}, {'URL': 'https://www.npmjs.com/package/socket.io\\r', 'NetScore': 0.6, 'NetScore_Latency': 76.817, 'RampUp': 0.8, 'RampUp_Latency': 1.384, 'Correctness': 0.4, 'Correctness_Latency': 1.497, 'BusFactor': 0.6, 'BusFactor_Latency': 0.848, 'ResponsiveMaintainer': 0.38, 'ResponsiveMaintainer_Latency': 0.986, 'License': 1, 'License_Latency': 21.443, 'DependencyPinning': 0.5, 'DependencyPinning_Latency': 3.387, 'ReviewPercentage': 1, 'ReviewPercentage_Latency': 47.272}, {'URL': 'https://github.com/prathameshnetake/libvlc\\r', 'NetScore': 0, 'NetScore_Latency': 8.203, 'RampUp': 1, 'RampUp_Latency': 0.699, 'Correctness': 0.9, 'Correctness_Latency': 0.874, 'BusFactor': 0.1, 'BusFactor_Latency': 0.672, 'ResponsiveMaintainer': 1, 'ResponsiveMaintainer_Latency': 0.728, 'License': 0, 'License_Latency': 1.625, 'DependencyPinning': 0.5, 'DependencyPinning_Latency': 2.918, 'ReviewPercentage': 0, 'ReviewPercentage_Latency': 0.687}, {'URL': 'https://www.npmjs.com/package/unlicensed', 'NetScore': 0, 'NetScore_Latency': 8.714, 'RampUp': 1, 'RampUp_Latency': 0.876, 'Correctness': 0.9, 'Correctness_Latency': 0.859, 'BusFactor': 0.1, 'BusFactor_Latency': 0.86, 'ResponsiveMaintainer': 1, 'ResponsiveMaintainer_Latency': 0.911, 'License': 0, 'License_Latency': 1.193, 'DependencyPinning': 1, 'DependencyPinning_Latency': 3.188, 'ReviewPercentage': 0, 'ReviewPercentage_Latency': 0.827}]\n"
     ]
    }
   ],
   "source": [
    "import json\n",
    "\n",
    "# file_path = './resources/adjMetrics.log'\n",
    "file_path = '../adjMetrics.log'\n",
    "\n",
    "with open(file_path, 'r') as file:\n",
    "    json_objects = []\n",
    "    for _ in range(16):\n",
    "        line = file.readline().strip()\n",
    "        if line:\n",
    "            json_objects.append(json.loads(line))\n",
    "\n",
    "# json_objects now contains the parsed JSON objects from the first 16 lines\n",
    "print(json_objects)"
   ]
  },
  {
   "cell_type": "code",
   "execution_count": 31,
   "metadata": {},
   "outputs": [
    {
     "name": "stdout",
     "output_type": "stream",
     "text": [
      "Passing packages:\n",
      "https://github.com/nullivex/nodist\n",
      "https://github.com/cloudinary/cloudinary_npm\n",
      "Total: 2 (12.50%)\n"
     ]
    }
   ],
   "source": [
    "passing_criteria = ['NetScore', 'RampUp', 'Correctness', 'BusFactor', 'ResponsiveMaintainer', 'License', 'DependencyPinning', 'ReviewPercentage']\n",
    "\n",
    "passing_objects = [obj[\"URL\"] for obj in json_objects if all(obj[metric] >= 0.5 for metric in passing_criteria)]\n",
    "\n",
    "# Print the number of passing objects\n",
    "print(f\"Passing packages:\\n{\"\\n\".join(passing_objects)}\")\n",
    "print(f\"Total: {len(passing_objects)} ({len(passing_objects) / len(json_objects) * 100:.2f}%)\")"
   ]
  },
  {
   "cell_type": "code",
   "execution_count": 32,
   "metadata": {},
   "outputs": [
    {
     "name": "stdout",
     "output_type": "stream",
     "text": [
      "Metric Averages:\n",
      "NetScore:  0.46249999999999997\n",
      "RampUp:  0.78125\n",
      "Correctness:  0.50625\n",
      "BusFactor:  0.5125\n",
      "ResponsiveMaintainer:  0.55125\n",
      "License:  0.8125\n",
      "dependencyPinning:  0.59375\n",
      "ReviewPercentage:  0.5375\n",
      "\n",
      "Latency Averages:\n",
      "NetScore_Latency:  81.589\n",
      "RampUp_Latency:  1.0808125\n",
      "Correctness_Latency:  1.66375\n",
      "BusFactor_Latency:  1.117625\n",
      "ResponsiveMaintainer_Latency:  1.305\n",
      "License_Latency:  26.7391875\n",
      "dependencyPinning_Latency:  5.0965\n",
      "ReviewPercentage_Latency:  44.586125\n"
     ]
    }
   ],
   "source": [
    "urls = [obj['URL'] for obj in json_objects]\n",
    "net_scores = [obj['NetScore'] for obj in json_objects]\n",
    "net_score_latencies = [obj['NetScore_Latency'] for obj in json_objects]\n",
    "ramp_ups = [obj['RampUp'] for obj in json_objects]\n",
    "ramp_up_latencies = [obj['RampUp_Latency'] for obj in json_objects]\n",
    "correctnesses = [obj['Correctness'] for obj in json_objects]\n",
    "correctness_latencies = [obj['Correctness_Latency'] for obj in json_objects]\n",
    "bus_factors = [obj['BusFactor'] for obj in json_objects]\n",
    "bus_factor_latencies = [obj['BusFactor_Latency'] for obj in json_objects]\n",
    "responsive_maintainers = [obj['ResponsiveMaintainer'] for obj in json_objects]\n",
    "responsive_maintainer_latencies = [obj['ResponsiveMaintainer_Latency'] for obj in json_objects]\n",
    "licenses = [obj['License'] for obj in json_objects]\n",
    "license_latencies = [obj['License_Latency'] for obj in json_objects]\n",
    "dependency_pinnings = [obj['DependencyPinning'] for obj in json_objects]\n",
    "dependency_pinning_latencies = [obj['DependencyPinning_Latency'] for obj in json_objects]\n",
    "review_percentages = [obj['ReviewPercentage'] for obj in json_objects]\n",
    "review_percentage_latencies = [obj['ReviewPercentage_Latency'] for obj in json_objects]\n",
    "\n",
    "# Print the extracted lists\n",
    "# print(urls)\n",
    "# print(net_scores)\n",
    "# print(net_score_latencies)\n",
    "# print(ramp_ups)\n",
    "# print(ramp_up_latencies)\n",
    "# print(correctnesses)\n",
    "# print(correctness_latencies)\n",
    "# print(bus_factors)\n",
    "# print(bus_factor_latencies)\n",
    "# print(responsive_maintainers)\n",
    "# print(responsive_maintainer_latencies)\n",
    "# print(licenses)\n",
    "# print(license_latencies)\n",
    "# print(dependency_pinnings)\n",
    "# print(dependency_pinning_latencies)\n",
    "# print(review_percentages)\n",
    "# print(review_percentage_latencies)\n",
    "\n",
    "# print the averages\n",
    "print(\"Metric Averages:\")\n",
    "print(\"NetScore: \", sum(net_scores) / len(net_scores))\n",
    "print(\"RampUp: \", sum(ramp_ups) / len(ramp_ups))\n",
    "print(\"Correctness: \", sum(correctnesses) / len(correctnesses))\n",
    "print(\"BusFactor: \", sum(bus_factors) / len(bus_factors))\n",
    "print(\"ResponsiveMaintainer: \", sum(responsive_maintainers) / len(responsive_maintainers))\n",
    "print(\"License: \", sum(licenses) / len(licenses))\n",
    "print(\"dependencyPinning: \", sum(dependency_pinnings) / len(dependency_pinnings))\n",
    "print(\"ReviewPercentage: \", sum(review_percentages) / len(review_percentages))\n",
    "\n",
    "print(\"\\nLatency Averages:\")\n",
    "print(\"NetScore_Latency: \", sum(net_score_latencies) / len(net_score_latencies))\n",
    "print(\"RampUp_Latency: \", sum(ramp_up_latencies) / len(ramp_up_latencies))\n",
    "print(\"Correctness_Latency: \", sum(correctness_latencies) / len(correctness_latencies))\n",
    "print(\"BusFactor_Latency: \", sum(bus_factor_latencies) / len(bus_factor_latencies))\n",
    "print(\"ResponsiveMaintainer_Latency: \", sum(responsive_maintainer_latencies) / len(responsive_maintainer_latencies))\n",
    "print(\"License_Latency: \", sum(license_latencies) / len(license_latencies))\n",
    "print(\"dependencyPinning_Latency: \", sum(dependency_pinning_latencies) / len(dependency_pinning_latencies))\n",
    "print(\"ReviewPercentage_Latency: \", sum(review_percentage_latencies) / len(review_percentage_latencies))"
   ]
  }
 ],
 "metadata": {
  "kernelspec": {
   "display_name": "Python 3",
   "language": "python",
   "name": "python3"
  },
  "language_info": {
   "codemirror_mode": {
    "name": "ipython",
    "version": 3
   },
   "file_extension": ".py",
   "mimetype": "text/x-python",
   "name": "python",
   "nbconvert_exporter": "python",
   "pygments_lexer": "ipython3",
   "version": "3.12.1"
  }
 },
 "nbformat": 4,
 "nbformat_minor": 2
}
