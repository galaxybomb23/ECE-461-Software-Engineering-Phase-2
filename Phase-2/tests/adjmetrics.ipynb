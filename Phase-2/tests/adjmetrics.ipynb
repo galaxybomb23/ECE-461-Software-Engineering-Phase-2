{
 "cells": [
  {
   "cell_type": "code",
   "execution_count": 9,
   "metadata": {},
   "outputs": [
    {
     "name": "stdout",
     "output_type": "stream",
     "text": [
      "[{'URL': 'https://github.com/nullivex/nodist\\r', 'NetScore': 0.7, 'NetScore_Latency': 84.038, 'RampUp': 0.7, 'RampUp_Latency': 1.501, 'Correctness': 0.7, 'Correctness_Latency': 2.287, 'BusFactor': 0.7, 'BusFactor_Latency': 2.167, 'ResponsiveMaintainer': 0.65, 'ResponsiveMaintainer_Latency': 1.609, 'License': 1, 'License_Latency': 2.707, 'dependencyPinning': 0.5, 'dependencyPinning_Latency': 8.212, 'ReviewPercentage': 1, 'ReviewPercentage_Latency': 65.555}, {'URL': 'https://github.com/cloudinary/cloudinary_npm\\r', 'NetScore': 0.6, 'NetScore_Latency': 69.422, 'RampUp': 0.2, 'RampUp_Latency': 0.762, 'Correctness': 0.7, 'Correctness_Latency': 1.227, 'BusFactor': 0.5, 'BusFactor_Latency': 0.803, 'ResponsiveMaintainer': 0.73, 'ResponsiveMaintainer_Latency': 0.923, 'License': 1, 'License_Latency': 17.508, 'dependencyPinning': 0.6, 'dependencyPinning_Latency': 2.485, 'ReviewPercentage': 1, 'ReviewPercentage_Latency': 45.714}, {'URL': 'https://github.com/lodash/lodash\\r', 'NetScore': 0.5, 'NetScore_Latency': 24.517, 'RampUp': 0.1, 'RampUp_Latency': 0.892, 'Correctness': 0.5, 'Correctness_Latency': 1.195, 'BusFactor': 1, 'BusFactor_Latency': 0.659, 'ResponsiveMaintainer': 0.3, 'ResponsiveMaintainer_Latency': 0.878, 'License': 1, 'License_Latency': 5.315, 'dependencyPinning': 0.7, 'dependencyPinning_Latency': 5.242, 'ReviewPercentage': 0.5, 'ReviewPercentage_Latency': 10.336}, {'URL': 'https://www.npmjs.com/package/browserify\\r', 'NetScore': 0.5, 'NetScore_Latency': 74.182, 'RampUp': 1, 'RampUp_Latency': 0.87, 'Correctness': 0.3, 'Correctness_Latency': 2.736, 'BusFactor': 0.2, 'BusFactor_Latency': 0.732, 'ResponsiveMaintainer': 0.28, 'ResponsiveMaintainer_Latency': 2.303, 'License': 1, 'License_Latency': 11.508, 'dependencyPinning': 0.7, 'dependencyPinning_Latency': 13.941, 'ReviewPercentage': 0.6, 'ReviewPercentage_Latency': 42.092}, {'URL': 'https://github.com/mrdoob/three.js\\r', 'NetScore': 0.3, 'NetScore_Latency': 214.348, 'RampUp': 0.1, 'RampUp_Latency': 0.436, 'Correctness': 0.3, 'Correctness_Latency': 1.262, 'BusFactor': 0.5, 'BusFactor_Latency': 0.46, 'ResponsiveMaintainer': 0.29, 'ResponsiveMaintainer_Latency': 0.99, 'License': 1, 'License_Latency': 160.57, 'dependencyPinning': 0.5, 'dependencyPinning_Latency': 2.165, 'ReviewPercentage': 0.2, 'ReviewPercentage_Latency': 48.465}, {'URL': 'https://github.com/moment/moment\\r', 'NetScore': 0.4, 'NetScore_Latency': 62.148, 'RampUp': 0.6, 'RampUp_Latency': 0.737, 'Correctness': 0.3, 'Correctness_Latency': 1.57, 'BusFactor': 0.6, 'BusFactor_Latency': 0.783, 'ResponsiveMaintainer': 0.27, 'ResponsiveMaintainer_Latency': 0.974, 'License': 1, 'License_Latency': 18.152, 'dependencyPinning': 0.5, 'dependencyPinning_Latency': 19.356, 'ReviewPercentage': 0.2, 'ReviewPercentage_Latency': 20.576}, {'URL': 'https://github.com/axios/axios\\r', 'NetScore': 0.4, 'NetScore_Latency': 46.347, 'RampUp': 0.7, 'RampUp_Latency': 0.651, 'Correctness': 0.3, 'Correctness_Latency': 1.191, 'BusFactor': 0.5, 'BusFactor_Latency': 0.655, 'ResponsiveMaintainer': 0.28, 'ResponsiveMaintainer_Latency': 0.825, 'License': 1, 'License_Latency': 6.039, 'dependencyPinning': 0.5, 'dependencyPinning_Latency': 7.518, 'ReviewPercentage': 0.2, 'ReviewPercentage_Latency': 29.468}, {'URL': 'https://github.com/expressjs/express\\r', 'NetScore': 0.7, 'NetScore_Latency': 33.1, 'RampUp': 0.9, 'RampUp_Latency': 0.827, 'Correctness': 0.3, 'Correctness_Latency': 1.489, 'BusFactor': 0.9, 'BusFactor_Latency': 1.332, 'ResponsiveMaintainer': 0.35, 'ResponsiveMaintainer_Latency': 0.999, 'License': 1, 'License_Latency': 6.955, 'dependencyPinning': 1, 'dependencyPinning_Latency': 7.932, 'ReviewPercentage': 1, 'ReviewPercentage_Latency': 13.566}, {'URL': 'https://github.com/d3/d3\\r', 'NetScore': 0, 'NetScore_Latency': 53.263, 'RampUp': 0.1, 'RampUp_Latency': 1.4, 'Correctness': 0.7, 'Correctness_Latency': 1.402, 'BusFactor': 0.9, 'BusFactor_Latency': 1.14, 'ResponsiveMaintainer': 0.85, 'ResponsiveMaintainer_Latency': 1.667, 'License': 0, 'License_Latency': 5.574, 'dependencyPinning': 0.5, 'dependencyPinning_Latency': 5.843, 'ReviewPercentage': 0.7, 'ReviewPercentage_Latency': 36.237}, {'URL': 'https://github.com/vuejs/vue\\r', 'NetScore': 0.5, 'NetScore_Latency': 47.789, 'RampUp': 0.4, 'RampUp_Latency': 0.836, 'Correctness': 0.3, 'Correctness_Latency': 1.603, 'BusFactor': 0.6, 'BusFactor_Latency': 0.86, 'ResponsiveMaintainer': 0.29, 'ResponsiveMaintainer_Latency': 1.018, 'License': 1, 'License_Latency': 13.247, 'dependencyPinning': 0.5, 'dependencyPinning_Latency': 14.356, 'ReviewPercentage': 1, 'ReviewPercentage_Latency': 15.869}, {'URL': 'https://github.com/jestjs/jest\\r', 'NetScore': 0.3, 'NetScore_Latency': 172.609, 'RampUp': 0.1, 'RampUp_Latency': 0.701, 'Correctness': 0.3, 'Correctness_Latency': 1.251, 'BusFactor': 0.3, 'BusFactor_Latency': 0.74, 'ResponsiveMaintainer': 0.26, 'ResponsiveMaintainer_Latency': 0.819, 'License': 1, 'License_Latency': 69.346, 'dependencyPinning': 0.5, 'dependencyPinning_Latency': 3.594, 'ReviewPercentage': 0.2, 'ReviewPercentage_Latency': 96.158}, {'URL': 'https://github.com/chartjs/Chart.js\\r', 'NetScore': 0.4, 'NetScore_Latency': 100.7, 'RampUp': 0.2, 'RampUp_Latency': 0.745, 'Correctness': 0.3, 'Correctness_Latency': 0.962, 'BusFactor': 0.6, 'BusFactor_Latency': 0.895, 'ResponsiveMaintainer': 0.29, 'ResponsiveMaintainer_Latency': 0.979, 'License': 1, 'License_Latency': 30.914, 'dependencyPinning': 0.5, 'dependencyPinning_Latency': 2.21, 'ReviewPercentage': 1, 'ReviewPercentage_Latency': 63.995}, {'URL': 'https://www.npmjs.com/package/wat4hjs\\r', 'NetScore': 0.7, 'NetScore_Latency': 10.226, 'RampUp': 1, 'RampUp_Latency': 0.516, 'Correctness': 0.9, 'Correctness_Latency': 0.752, 'BusFactor': 0.1, 'BusFactor_Latency': 0.765, 'ResponsiveMaintainer': 1, 'ResponsiveMaintainer_Latency': 0.695, 'License': 1, 'License_Latency': 1.667, 'dependencyPinning': 0.5, 'dependencyPinning_Latency': 3.119, 'ReviewPercentage': 0.2, 'ReviewPercentage_Latency': 2.712}, {'URL': 'https://www.npmjs.com/package/socket.io\\r', 'NetScore': 0.5, 'NetScore_Latency': 71.32, 'RampUp': 0.4, 'RampUp_Latency': 0.957, 'Correctness': 0.4, 'Correctness_Latency': 1.69, 'BusFactor': 0.6, 'BusFactor_Latency': 0.988, 'ResponsiveMaintainer': 0.35, 'ResponsiveMaintainer_Latency': 1.14, 'License': 1, 'License_Latency': 21.577, 'dependencyPinning': 0.5, 'dependencyPinning_Latency': 3.364, 'ReviewPercentage': 1, 'ReviewPercentage_Latency': 41.604}, {'URL': 'https://github.com/prathameshnetake/libvlc\\r', 'NetScore': 0, 'NetScore_Latency': 8.425, 'RampUp': 1, 'RampUp_Latency': 0.561, 'Correctness': 0.9, 'Correctness_Latency': 0.696, 'BusFactor': 0.1, 'BusFactor_Latency': 0.465, 'ResponsiveMaintainer': 1, 'ResponsiveMaintainer_Latency': 0.721, 'License': 0, 'License_Latency': 1.749, 'dependencyPinning': 0.5, 'dependencyPinning_Latency': 3.77, 'ReviewPercentage': 0, 'ReviewPercentage_Latency': 0.463}, {'URL': 'https://www.npmjs.com/package/unlicensed', 'NetScore': 0, 'NetScore_Latency': 10.879, 'RampUp': 1, 'RampUp_Latency': 1.094, 'Correctness': 0.9, 'Correctness_Latency': 1.51, 'BusFactor': 0.1, 'BusFactor_Latency': 1.085, 'ResponsiveMaintainer': 1, 'ResponsiveMaintainer_Latency': 1.605, 'License': 0, 'License_Latency': 1.408, 'dependencyPinning': 1, 'dependencyPinning_Latency': 3.093, 'ReviewPercentage': 0, 'ReviewPercentage_Latency': 1.084}]\n"
     ]
    }
   ],
   "source": [
    "import json\n",
    "\n",
    "# file_path = './resources/adjMetrics.log'\n",
    "file_path = '../adjMetrics.log'\n",
    "\n",
    "with open(file_path, 'r') as file:\n",
    "    json_objects = []\n",
    "    for _ in range(16):\n",
    "        line = file.readline().strip()\n",
    "        if line:\n",
    "            json_objects.append(json.loads(line))\n",
    "\n",
    "# json_objects now contains the parsed JSON objects from the first 16 lines\n",
    "print(json_objects)"
   ]
  },
  {
   "cell_type": "code",
   "execution_count": 11,
   "metadata": {},
   "outputs": [
    {
     "name": "stdout",
     "output_type": "stream",
     "text": [
      "8\n"
     ]
    }
   ],
   "source": [
    "passing_criteria = ['NetScore'] #, 'RampUp', 'Correctness', 'BusFactor', 'ResponsiveMaintainer', 'License', 'dependencyPinning', 'ReviewPercentage']\n",
    "\n",
    "passing_objects = [obj for obj in json_objects if all(obj[metric] >= 0.5 for metric in passing_criteria)]\n",
    "\n",
    "# Print the number of passing objects\n",
    "print(len(passing_objects))"
   ]
  },
  {
   "cell_type": "code",
   "execution_count": 7,
   "metadata": {},
   "outputs": [
    {
     "name": "stdout",
     "output_type": "stream",
     "text": [
      "NetScore:  0.39999999999999997\n",
      "RampUp:  0.53125\n",
      "Correctness:  0.50625\n",
      "BusFactor:  0.5125\n",
      "ResponsiveMaintainer:  0.47125\n",
      "License:  0.8125\n",
      "dependencyPinning:  0.59375\n",
      "ReviewPercentage:  0.46249999999999997\n",
      "\n",
      "ReviewPercentage_Latency:  34.402499999999996\n",
      "NetScore_Latency:  73.351625\n",
      "dependencyPinning_Latency:  5.9173125\n",
      "RampUp_Latency:  1.052625\n",
      "License_Latency:  28.353125000000002\n",
      "Correctness_Latency:  1.5202499999999999\n",
      "ResponsiveMaintainer_Latency:  1.0965625\n",
      "BusFactor_Latency:  1.00925\n"
     ]
    }
   ],
   "source": [
    "urls = [obj['URL'] for obj in json_objects]\n",
    "net_scores = [obj['NetScore'] for obj in json_objects]\n",
    "net_score_latencies = [obj['NetScore_Latency'] for obj in json_objects]\n",
    "ramp_ups = [obj['RampUp'] for obj in json_objects]\n",
    "ramp_up_latencies = [obj['RampUp_Latency'] for obj in json_objects]\n",
    "correctnesses = [obj['Correctness'] for obj in json_objects]\n",
    "correctness_latencies = [obj['Correctness_Latency'] for obj in json_objects]\n",
    "bus_factors = [obj['BusFactor'] for obj in json_objects]\n",
    "bus_factor_latencies = [obj['BusFactor_Latency'] for obj in json_objects]\n",
    "responsive_maintainers = [obj['ResponsiveMaintainer'] for obj in json_objects]\n",
    "responsive_maintainer_latencies = [obj['ResponsiveMaintainer_Latency'] for obj in json_objects]\n",
    "licenses = [obj['License'] for obj in json_objects]\n",
    "license_latencies = [obj['License_Latency'] for obj in json_objects]\n",
    "dependency_pinnings = [obj['dependencyPinning'] for obj in json_objects]\n",
    "dependency_pinning_latencies = [obj['dependencyPinning_Latency'] for obj in json_objects]\n",
    "review_percentages = [obj['ReviewPercentage'] for obj in json_objects]\n",
    "review_percentage_latencies = [obj['ReviewPercentage_Latency'] for obj in json_objects]\n",
    "\n",
    "# Print the extracted lists\n",
    "# print(urls)\n",
    "# print(net_scores)\n",
    "# print(net_score_latencies)\n",
    "# print(ramp_ups)\n",
    "# print(ramp_up_latencies)\n",
    "# print(correctnesses)\n",
    "# print(correctness_latencies)\n",
    "# print(bus_factors)\n",
    "# print(bus_factor_latencies)\n",
    "# print(responsive_maintainers)\n",
    "# print(responsive_maintainer_latencies)\n",
    "# print(licenses)\n",
    "# print(license_latencies)\n",
    "# print(dependency_pinnings)\n",
    "# print(dependency_pinning_latencies)\n",
    "# print(review_percentages)\n",
    "# print(review_percentage_latencies)\n",
    "\n",
    "# print the averages\n",
    "print(\"NetScore: \", sum(net_scores) / len(net_scores))\n",
    "print(\"RampUp: \", sum(ramp_ups) / len(ramp_ups))\n",
    "print(\"Correctness: \", sum(correctnesses) / len(correctnesses))\n",
    "print(\"BusFactor: \", sum(bus_factors) / len(bus_factors))\n",
    "print(\"ResponsiveMaintainer: \", sum(responsive_maintainers) / len(responsive_maintainers))\n",
    "print(\"License: \", sum(licenses) / len(licenses))\n",
    "print(\"dependencyPinning: \", sum(dependency_pinnings) / len(dependency_pinnings))\n",
    "print(\"ReviewPercentage: \", sum(review_percentages) / len(review_percentages))\n",
    "\n",
    "print()\n",
    "print(\"ReviewPercentage_Latency: \", sum(review_percentage_latencies) / len(review_percentage_latencies))\n",
    "print(\"NetScore_Latency: \", sum(net_score_latencies) / len(net_score_latencies))\n",
    "print(\"dependencyPinning_Latency: \", sum(dependency_pinning_latencies) / len(dependency_pinning_latencies))\n",
    "print(\"RampUp_Latency: \", sum(ramp_up_latencies) / len(ramp_up_latencies))\n",
    "print(\"License_Latency: \", sum(license_latencies) / len(license_latencies))\n",
    "print(\"Correctness_Latency: \", sum(correctness_latencies) / len(correctness_latencies))\n",
    "print(\"ResponsiveMaintainer_Latency: \", sum(responsive_maintainer_latencies) / len(responsive_maintainer_latencies))\n",
    "print(\"BusFactor_Latency: \", sum(bus_factor_latencies) / len(bus_factor_latencies))"
   ]
  },
  {
   "cell_type": "code",
   "execution_count": null,
   "metadata": {},
   "outputs": [],
   "source": []
  }
 ],
 "metadata": {
  "kernelspec": {
   "display_name": "Python 3",
   "language": "python",
   "name": "python3"
  },
  "language_info": {
   "codemirror_mode": {
    "name": "ipython",
    "version": 3
   },
   "file_extension": ".py",
   "mimetype": "text/x-python",
   "name": "python",
   "nbconvert_exporter": "python",
   "pygments_lexer": "ipython3",
   "version": "3.12.1"
  }
 },
 "nbformat": 4,
 "nbformat_minor": 2
}
