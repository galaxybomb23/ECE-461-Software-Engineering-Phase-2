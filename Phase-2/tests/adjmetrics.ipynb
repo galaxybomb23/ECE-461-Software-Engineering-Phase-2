{
 "cells": [
  {
   "cell_type": "code",
   "execution_count": 4,
   "metadata": {},
   "outputs": [
    {
     "name": "stdout",
     "output_type": "stream",
     "text": [
      "[{'URL': 'https://github.com/nullivex/nodist', 'NetScore': 0.8, 'NetScore_Latency': 30.628, 'RampUp': 0.9, 'RampUp_Latency': 0.439, 'Correctness': 0.7, 'Correctness_Latency': 0.482, 'BusFactor': 0.7, 'BusFactor_Latency': 0.48, 'ResponsiveMaintainer': 1, 'ResponsiveMaintainer_Latency': 0.243, 'License': 1, 'License_Latency': 0.351, 'DependencyPinning': 0.5, 'DependencyPinning_Latency': 1.814, 'ReviewPercentage': 1, 'ReviewPercentage_Latency': 26.819}, {'URL': 'https://github.com/cloudinary/cloudinary_npm', 'NetScore': 0.8, 'NetScore_Latency': 32.391, 'RampUp': 0.8, 'RampUp_Latency': 0.24, 'Correctness': 0.9, 'Correctness_Latency': 0.27, 'BusFactor': 0.5, 'BusFactor_Latency': 0.243, 'ResponsiveMaintainer': 1, 'ResponsiveMaintainer_Latency': 0.141, 'License': 1, 'License_Latency': 7.762, 'DependencyPinning': 0.6, 'DependencyPinning_Latency': 0.92, 'ReviewPercentage': 1, 'ReviewPercentage_Latency': 22.815}, {'URL': 'https://github.com/lodash/lodash', 'NetScore': 0.8, 'NetScore_Latency': 5.895, 'RampUp': 0.7, 'RampUp_Latency': 0.276, 'Correctness': 0.7, 'Correctness_Latency': 0.585, 'BusFactor': 1, 'BusFactor_Latency': 0.241, 'ResponsiveMaintainer': 1, 'ResponsiveMaintainer_Latency': 0.156, 'License': 1, 'License_Latency': 0.556, 'DependencyPinning': 0.7, 'DependencyPinning_Latency': 0.986, 'ReviewPercentage': 0.5, 'ReviewPercentage_Latency': 3.095}, {'URL': 'https://www.npmjs.com/package/browserify', 'NetScore': 0.7, 'NetScore_Latency': 20.999, 'RampUp': 1, 'RampUp_Latency': 0.572, 'Correctness': 0.6, 'Correctness_Latency': 0.573, 'BusFactor': 0.2, 'BusFactor_Latency': 0.575, 'ResponsiveMaintainer': 1, 'ResponsiveMaintainer_Latency': 0.14, 'License': 1, 'License_Latency': 0.577, 'DependencyPinning': 0.7, 'DependencyPinning_Latency': 1.33, 'ReviewPercentage': 0.6, 'ReviewPercentage_Latency': 17.232}, {'URL': 'https://github.com/mrdoob/three.js', 'NetScore': 0.5, 'NetScore_Latency': 106.335, 'RampUp': 0.1, 'RampUp_Latency': 0.264, 'Correctness': 0.6, 'Correctness_Latency': 0.272, 'BusFactor': 0.5, 'BusFactor_Latency': 0.842, 'ResponsiveMaintainer': 1, 'ResponsiveMaintainer_Latency': 0.214, 'License': 1, 'License_Latency': 82.729, 'DependencyPinning': 0.5, 'DependencyPinning_Latency': 1.043, 'ReviewPercentage': 0.3, 'ReviewPercentage_Latency': 20.971}, {'URL': 'https://github.com/moment/moment', 'NetScore': 0.7, 'NetScore_Latency': 8.012, 'RampUp': 0.9, 'RampUp_Latency': 0.348, 'Correctness': 0.6, 'Correctness_Latency': 1.316, 'BusFactor': 0.6, 'BusFactor_Latency': 0.384, 'ResponsiveMaintainer': 1, 'ResponsiveMaintainer_Latency': 0.383, 'License': 1, 'License_Latency': 1.318, 'DependencyPinning': 0.5, 'DependencyPinning_Latency': 1.528, 'ReviewPercentage': 0.2, 'ReviewPercentage_Latency': 2.735}, {'URL': 'https://github.com/axios/axios', 'NetScore': 0.7, 'NetScore_Latency': 23.873, 'RampUp': 0.9, 'RampUp_Latency': 0.262, 'Correctness': 0.6, 'Correctness_Latency': 0.567, 'BusFactor': 0.5, 'BusFactor_Latency': 0.262, 'ResponsiveMaintainer': 1, 'ResponsiveMaintainer_Latency': 0.147, 'License': 1, 'License_Latency': 1.219, 'DependencyPinning': 0.5, 'DependencyPinning_Latency': 1.458, 'ReviewPercentage': 0.2, 'ReviewPercentage_Latency': 19.958}, {'URL': 'https://github.com/expressjs/express', 'NetScore': 0.9, 'NetScore_Latency': 5.788, 'RampUp': 1, 'RampUp_Latency': 0.28, 'Correctness': 0.6, 'Correctness_Latency': 0.485, 'BusFactor': 0.9, 'BusFactor_Latency': 0.267, 'ResponsiveMaintainer': 1, 'ResponsiveMaintainer_Latency': 0.171, 'License': 1, 'License_Latency': 0.422, 'DependencyPinning': 1, 'DependencyPinning_Latency': 0.864, 'ReviewPercentage': 1, 'ReviewPercentage_Latency': 3.299}, {'URL': 'https://github.com/d3/d3', 'NetScore': 0, 'NetScore_Latency': 22.256, 'RampUp': 0.7, 'RampUp_Latency': 0.245, 'Correctness': 1, 'Correctness_Latency': 0.507, 'BusFactor': 0.9, 'BusFactor_Latency': 0.216, 'ResponsiveMaintainer': 1, 'ResponsiveMaintainer_Latency': 0.155, 'License': 0, 'License_Latency': 0.433, 'DependencyPinning': 0.5, 'DependencyPinning_Latency': 0.887, 'ReviewPercentage': 0.7, 'ReviewPercentage_Latency': 19.813}, {'URL': 'https://github.com/vuejs/vue', 'NetScore': 0.8, 'NetScore_Latency': 6.192, 'RampUp': 0.8, 'RampUp_Latency': 0.304, 'Correctness': 0.6, 'Correctness_Latency': 0.793, 'BusFactor': 0.6, 'BusFactor_Latency': 0.263, 'ResponsiveMaintainer': 1, 'ResponsiveMaintainer_Latency': 0.156, 'License': 1, 'License_Latency': 0.797, 'DependencyPinning': 0.5, 'DependencyPinning_Latency': 1.267, 'ReviewPercentage': 1, 'ReviewPercentage_Latency': 2.612}, {'URL': 'https://github.com/jestjs/jest', 'NetScore': 0.5, 'NetScore_Latency': 28.626, 'RampUp': 0.1, 'RampUp_Latency': 0.273, 'Correctness': 0.6, 'Correctness_Latency': 0.249, 'BusFactor': 0.3, 'BusFactor_Latency': 0.298, 'ResponsiveMaintainer': 1, 'ResponsiveMaintainer_Latency': 0.173, 'License': 1, 'License_Latency': 8.395, 'DependencyPinning': 0.5, 'DependencyPinning_Latency': 0.984, 'ReviewPercentage': 0.2, 'ReviewPercentage_Latency': 18.254}, {'URL': 'https://github.com/chartjs/Chart.js', 'NetScore': 0.8, 'NetScore_Latency': 28.117, 'RampUp': 0.8, 'RampUp_Latency': 0.275, 'Correctness': 0.6, 'Correctness_Latency': 1.317, 'BusFactor': 0.6, 'BusFactor_Latency': 0.301, 'ResponsiveMaintainer': 1, 'ResponsiveMaintainer_Latency': 0.148, 'License': 1, 'License_Latency': 3.953, 'DependencyPinning': 0.5, 'DependencyPinning_Latency': 0.956, 'ReviewPercentage': 1, 'ReviewPercentage_Latency': 21.167}, {'URL': 'https://www.npmjs.com/package/wat4hjs', 'NetScore': 0.6, 'NetScore_Latency': 2.94, 'RampUp': 1, 'RampUp_Latency': 0.243, 'Correctness': 0.7, 'Correctness_Latency': 0.38, 'BusFactor': 0.1, 'BusFactor_Latency': 0.237, 'ResponsiveMaintainer': 1, 'ResponsiveMaintainer_Latency': 0.126, 'License': 1, 'License_Latency': 0.142, 'DependencyPinning': 0.5, 'DependencyPinning_Latency': 0.901, 'ReviewPercentage': 0.2, 'ReviewPercentage_Latency': 0.911}, {'URL': 'https://www.npmjs.com/package/socket.io', 'NetScore': 0.8, 'NetScore_Latency': 19.864, 'RampUp': 0.8, 'RampUp_Latency': 0.268, 'Correctness': 0.6, 'Correctness_Latency': 0.424, 'BusFactor': 0.6, 'BusFactor_Latency': 0.345, 'ResponsiveMaintainer': 1, 'ResponsiveMaintainer_Latency': 0.136, 'License': 1, 'License_Latency': 2.484, 'DependencyPinning': 0.5, 'DependencyPinning_Latency': 0.899, 'ReviewPercentage': 1, 'ReviewPercentage_Latency': 15.308}, {'URL': 'https://github.com/prathameshnetake/libvlc', 'NetScore': 0, 'NetScore_Latency': 2.004, 'RampUp': 1, 'RampUp_Latency': 0.269, 'Correctness': 0.7, 'Correctness_Latency': 0.201, 'BusFactor': 0.1, 'BusFactor_Latency': 0.225, 'ResponsiveMaintainer': 1, 'ResponsiveMaintainer_Latency': 0.091, 'License': 0, 'License_Latency': 0.129, 'DependencyPinning': 0.5, 'DependencyPinning_Latency': 0.909, 'ReviewPercentage': 0, 'ReviewPercentage_Latency': 0.18}]\n"
     ]
    }
   ],
   "source": [
    "import json\n",
    "\n",
    "# file_path = './resources/adjMetrics.log'\n",
    "file_path = '../adjMetrics.log'\n",
    "\n",
    "with open(file_path, 'r') as file:\n",
    "    json_objects = []\n",
    "    for _ in range(16):\n",
    "        line = file.readline().strip()\n",
    "        if line:\n",
    "            json_objects.append(json.loads(line))\n",
    "\n",
    "# json_objects now contains the parsed JSON objects from the first 16 lines\n",
    "print(json_objects)"
   ]
  },
  {
   "cell_type": "code",
   "execution_count": 5,
   "metadata": {},
   "outputs": [
    {
     "name": "stdout",
     "output_type": "stream",
     "text": [
      "Passing packages:\n",
      "https://github.com/nullivex/nodist\n",
      "https://github.com/cloudinary/cloudinary_npm\n",
      "https://github.com/lodash/lodash\n",
      "https://github.com/expressjs/express\n",
      "https://github.com/vuejs/vue\n",
      "https://github.com/chartjs/Chart.js\n",
      "https://www.npmjs.com/package/socket.io\n",
      "Total: 7 (46.67%)\n"
     ]
    }
   ],
   "source": [
    "passing_criteria = ['NetScore', 'RampUp', 'Correctness', 'BusFactor', 'ResponsiveMaintainer', 'License', 'DependencyPinning', 'ReviewPercentage']\n",
    "\n",
    "passing_objects = [obj[\"URL\"] for obj in json_objects if all(obj[metric] >= 0.5 for metric in passing_criteria)]\n",
    "\n",
    "# Print the number of passing objects\n",
    "print(f\"Passing packages:\\n{\"\\n\".join(passing_objects)}\")\n",
    "print(f\"Total: {len(passing_objects)} ({len(passing_objects) / len(json_objects) * 100:.2f}%)\")"
   ]
  },
  {
   "cell_type": "code",
   "execution_count": 6,
   "metadata": {},
   "outputs": [
    {
     "name": "stdout",
     "output_type": "stream",
     "text": [
      "Metric Averages:\n",
      "NetScore:  0.6266666666666667\n",
      "RampUp:  0.7666666666666667\n",
      "Correctness:  0.6733333333333333\n",
      "BusFactor:  0.5399999999999999\n",
      "ResponsiveMaintainer:  1.0\n",
      "License:  0.8666666666666667\n",
      "dependencyPinning:  0.5666666666666667\n",
      "ReviewPercentage:  0.5933333333333335\n",
      "\n",
      "Latency Averages:\n",
      "NetScore_Latency:  22.928\n",
      "RampUp_Latency:  0.3038666666666667\n",
      "Correctness_Latency:  0.5614\n",
      "BusFactor_Latency:  0.34526666666666667\n",
      "ResponsiveMaintainer_Latency:  0.17200000000000001\n",
      "License_Latency:  7.4178\n",
      "dependencyPinning_Latency:  1.1163999999999998\n",
      "ReviewPercentage_Latency:  13.011266666666668\n"
     ]
    }
   ],
   "source": [
    "urls = [obj['URL'] for obj in json_objects]\n",
    "net_scores = [obj['NetScore'] for obj in json_objects]\n",
    "net_score_latencies = [obj['NetScore_Latency'] for obj in json_objects]\n",
    "ramp_ups = [obj['RampUp'] for obj in json_objects]\n",
    "ramp_up_latencies = [obj['RampUp_Latency'] for obj in json_objects]\n",
    "correctnesses = [obj['Correctness'] for obj in json_objects]\n",
    "correctness_latencies = [obj['Correctness_Latency'] for obj in json_objects]\n",
    "bus_factors = [obj['BusFactor'] for obj in json_objects]\n",
    "bus_factor_latencies = [obj['BusFactor_Latency'] for obj in json_objects]\n",
    "responsive_maintainers = [obj['ResponsiveMaintainer'] for obj in json_objects]\n",
    "responsive_maintainer_latencies = [obj['ResponsiveMaintainer_Latency'] for obj in json_objects]\n",
    "licenses = [obj['License'] for obj in json_objects]\n",
    "license_latencies = [obj['License_Latency'] for obj in json_objects]\n",
    "dependency_pinnings = [obj['DependencyPinning'] for obj in json_objects]\n",
    "dependency_pinning_latencies = [obj['DependencyPinning_Latency'] for obj in json_objects]\n",
    "review_percentages = [obj['ReviewPercentage'] for obj in json_objects]\n",
    "review_percentage_latencies = [obj['ReviewPercentage_Latency'] for obj in json_objects]\n",
    "\n",
    "# Print the extracted lists\n",
    "# print(urls)\n",
    "# print(net_scores)\n",
    "# print(net_score_latencies)\n",
    "# print(ramp_ups)\n",
    "# print(ramp_up_latencies)\n",
    "# print(correctnesses)\n",
    "# print(correctness_latencies)\n",
    "# print(bus_factors)\n",
    "# print(bus_factor_latencies)\n",
    "# print(responsive_maintainers)\n",
    "# print(responsive_maintainer_latencies)\n",
    "# print(licenses)\n",
    "# print(license_latencies)\n",
    "# print(dependency_pinnings)\n",
    "# print(dependency_pinning_latencies)\n",
    "# print(review_percentages)\n",
    "# print(review_percentage_latencies)\n",
    "\n",
    "# print the averages\n",
    "print(\"Metric Averages:\")\n",
    "print(\"NetScore: \", sum(net_scores) / len(net_scores))\n",
    "print(\"RampUp: \", sum(ramp_ups) / len(ramp_ups))\n",
    "print(\"Correctness: \", sum(correctnesses) / len(correctnesses))\n",
    "print(\"BusFactor: \", sum(bus_factors) / len(bus_factors))\n",
    "print(\"ResponsiveMaintainer: \", sum(responsive_maintainers) / len(responsive_maintainers))\n",
    "print(\"License: \", sum(licenses) / len(licenses))\n",
    "print(\"dependencyPinning: \", sum(dependency_pinnings) / len(dependency_pinnings))\n",
    "print(\"ReviewPercentage: \", sum(review_percentages) / len(review_percentages))\n",
    "\n",
    "print(\"\\nLatency Averages:\")\n",
    "print(\"NetScore_Latency: \", sum(net_score_latencies) / len(net_score_latencies))\n",
    "print(\"RampUp_Latency: \", sum(ramp_up_latencies) / len(ramp_up_latencies))\n",
    "print(\"Correctness_Latency: \", sum(correctness_latencies) / len(correctness_latencies))\n",
    "print(\"BusFactor_Latency: \", sum(bus_factor_latencies) / len(bus_factor_latencies))\n",
    "print(\"ResponsiveMaintainer_Latency: \", sum(responsive_maintainer_latencies) / len(responsive_maintainer_latencies))\n",
    "print(\"License_Latency: \", sum(license_latencies) / len(license_latencies))\n",
    "print(\"dependencyPinning_Latency: \", sum(dependency_pinning_latencies) / len(dependency_pinning_latencies))\n",
    "print(\"ReviewPercentage_Latency: \", sum(review_percentage_latencies) / len(review_percentage_latencies))"
   ]
  }
 ],
 "metadata": {
  "kernelspec": {
   "display_name": "Python 3",
   "language": "python",
   "name": "python3"
  },
  "language_info": {
   "codemirror_mode": {
    "name": "ipython",
    "version": 3
   },
   "file_extension": ".py",
   "mimetype": "text/x-python",
   "name": "python",
   "nbconvert_exporter": "python",
   "pygments_lexer": "ipython3",
   "version": "3.12.4"
  }
 },
 "nbformat": 4,
 "nbformat_minor": 2
}
